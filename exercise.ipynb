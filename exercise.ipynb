{
 "cells": [
  {
   "cell_type": "markdown",
   "metadata": {},
   "source": [
    "# Data preparation"
   ]
  },
  {
   "cell_type": "markdown",
   "metadata": {},
   "source": [
    "Open **train2017.tsv**, clear tweets of links, words with # and @ and unnecessary symbols. Replace some positive and negative emoticons with 'positive_tag'/'negative_tag' correspondigly (for better features later). <br> Tweet clearing involves as well tokenizing, removing stopwords and lemmatizing words."
   ]
  },
  {
   "cell_type": "code",
   "execution_count": 1,
   "metadata": {},
   "outputs": [
    {
     "name": "stdout",
     "output_type": "stream",
     "text": [
      "<class 'pandas.core.frame.DataFrame'>\n",
      "RangeIndex: 28061 entries, 0 to 28060\n",
      "Data columns (total 4 columns):\n",
      "id1      28061 non-null int64\n",
      "id2      28061 non-null object\n",
      "sent     28061 non-null object\n",
      "tweet    28061 non-null object\n",
      "dtypes: int64(1), object(3)\n",
      "memory usage: 877.0+ KB\n",
      "\n",
      "\n",
      "id1: 28060 unique values.\n",
      "id2: 22284 unique values.\n",
      "sent: 3 unique values.\n",
      "tweet: 28061 unique values.\n"
     ]
    }
   ],
   "source": [
    "import pandas as pd\n",
    "import nltk\n",
    "from nltk import word_tokenize\n",
    "from nltk.corpus import stopwords\n",
    "from nltk import pos_tag\n",
    "from nltk.stem import StemmerI, RegexpStemmer, LancasterStemmer, ISRIStemmer, PorterStemmer, SnowballStemmer, RSLPStemmer\n",
    "from nltk.stem import  WordNetLemmatizer\n",
    "import matplotlib.pyplot as plt\n",
    "import numpy as np\n",
    "from collections import Counter\n",
    "from nltk.corpus import stopwords\n",
    "import pickle\n",
    "import seaborn as sns\n",
    "from wordcloud import WordCloud, STOPWORDS, ImageColorGenerator\n",
    "import gensim\n",
    "from sklearn.model_selection import train_test_split\n",
    "from sklearn.metrics import f1_score\n",
    "from sklearn import svm\n",
    "import os\n",
    "import re\n",
    "\n",
    "%matplotlib inline\n",
    "\n",
    "#read train2017.csv and cleanup\n",
    "data = pd.read_csv(\"twitter_data/train2017.tsv\", engine='python', sep=\"\\t+\", escapechar='\\\\', header=None, names=['id1','id2','sent','tweet'])\n",
    "data.info()\n",
    "print \"\\n\"\n",
    "for col in data.columns:\n",
    "    print col + \": \" + str(len(data[col].unique())) + \" unique values.\""
   ]
  },
  {
   "cell_type": "markdown",
   "metadata": {},
   "source": [
    "#### Functions with implementation of the above"
   ]
  },
  {
   "cell_type": "code",
   "execution_count": 2,
   "metadata": {},
   "outputs": [],
   "source": [
    "#clear tweets\n",
    "\n",
    "def clear_tweets(data):\n",
    "    tweets = [re.sub(r'https?:\\/\\/[^ ]*', '',s).strip() for s in data['tweet']] #clear links\n",
    "    \n",
    "    #replace emoticons with positive/negative tags !!!\n",
    "    pos_regex = '[:;]-?[)Dp]+|<3'\n",
    "    neg_regex = ':-?\\'?[(/Oo]+'\n",
    "    tweets = [re.sub(pos_regex, ' positive_tag ',s).strip() for s in tweets]\n",
    "    tweets = [re.sub(neg_regex, ' negative_tag ',s).strip() for s in tweets]\n",
    "    \n",
    "    #clear tweets of everything else not necessary\n",
    "    tweets = [re.sub(r'#[^ ]*', '', s).strip() for s in tweets]  #clear words with hashtag\n",
    "    tweets = [re.sub(r'@[^ ]*', '', s).strip() for s in tweets]  #clear words with @ sign\n",
    "    tweets = [re.sub(\"[^A-Za-z_' ]+\", \"\", s).strip() for s in tweets]    #clear all others\n",
    "    return tweets\n",
    "\n",
    "def tokenize_tweets(tweets):\n",
    "    tokens = []\n",
    "    for sentence in tweets:\n",
    "        #tokens.append(word_tokenize(sentence))\n",
    "        tokens.append([w.lower() for w in word_tokenize(sentence)])\n",
    "    return tokens\n",
    "\n",
    "def extra_clear(tokens):\n",
    "    #take words, clears dots etc\n",
    "    for idx, item in enumerate(tokens):\n",
    "        for value in item:\n",
    "            if (\"'\" in value or \"'\" == value) and value != \"c'mon\":\n",
    "                item.remove(value)\n",
    "            elif value == \"st\" or value == \"th\":\n",
    "                item.remove(value)\n",
    "        tokens[idx] = item\n",
    "    return tokens\n",
    "\n",
    "def remove_stopwords(tokens):\n",
    "    filtered = []\n",
    "    for lst in tokens:\n",
    "        filtered.append([w for w in lst if not w in stopwords.words('english')])\n",
    "    return filtered"
   ]
  },
  {
   "cell_type": "code",
   "execution_count": 3,
   "metadata": {},
   "outputs": [],
   "source": [
    "#Lemmatize with POS Tags\n",
    "#it may take some minutes !!\n",
    "from nltk.corpus import wordnet\n",
    "\n",
    "def get_wordnet_pos(word):\n",
    "    \"\"\"Map POS tag to first character lemmatize() accepts\"\"\"\n",
    "    tag = nltk.pos_tag([word])[0][1][0].upper()\n",
    "    tag_dict = {\"J\": wordnet.ADJ,\n",
    "                \"N\": wordnet.NOUN,\n",
    "                \"V\": wordnet.VERB,\n",
    "                \"R\": wordnet.ADV}\n",
    "\n",
    "    return tag_dict.get(tag, wordnet.NOUN)\n",
    "\n",
    "def lemmatize_words(tokens):\n",
    "    lemmatizer = WordNetLemmatizer()\n",
    "    lems = []\n",
    "    for lst in tokens:\n",
    "        lems.append([ lemmatizer.lemmatize(w, get_wordnet_pos(w)) for w in lst ])\n",
    "    return lems"
   ]
  },
  {
   "cell_type": "code",
   "execution_count": 4,
   "metadata": {},
   "outputs": [
    {
     "name": "stdout",
     "output_type": "stream",
     "text": [
      "End result:\n",
      "[['gas', 'house', 'hit', u'go', 'chapel', 'hill', 'sat', 'positive_tag'], ['theo', 'walcott', 'still', 'shit', 'watch', 'rafa', 'johnny', 'deal', 'saturday'], ['gsp', 'fan', 'hate', 'nick', 'diaz', 'ca', 'wait', 'february'], ['iranian', 'general', u'say', 'israel', 'iron', 'dome', 'ca', 'deal', u'missile', 'keep', u'talk', 'like', 'may', 'end', u'find'], ['tehran', 'mon', 'amour', 'obama', u'try', 'establish', u'tie', u'mullah', 'via', 'barack', 'obama', 'vote', 'mitt', 'romney'], ['sat', 'whole', 'movie', 'harry', 'ron', 'christmas', 'ohlawd'], ['j', 'davlar', 'main', u'rival', 'team', 'poland', 'hopefully', 'make', 'successful', 'end', 'tough', 'week', 'training', 'tomorrow'], [u'talk', 'act', 'sat', u'decide', 'want', 'go', 'college', u'apply', u'college', 'everything', 'college', u'stress'], ['happy', u'valentine', 'day', u'trend', 'february', 'june', 'smh'], ['may', 'superbowl', 'dallas', 'dallas', 'ai', u'win', 'superbowl', 'quarterback', 'owner']]\n"
     ]
    }
   ],
   "source": [
    "#check if directory exists\n",
    "if not os.path.isdir(\"pkl_files\"):\n",
    "    os.mkdir(\"pkl_files\")\n",
    "\n",
    "if not os.path.isfile(\"pkl_files/words.pkl\"):\n",
    "    tweets = clear_tweets(data)\n",
    "    words = tokenize_tweets(tweets)\n",
    "    words = extra_clear(words)\n",
    "    words = remove_stopwords(words)\n",
    "    lems = lemmatize_words(words)\n",
    "    pickle.dump(lems, open(\"pkl_files/words.pkl\", \"wb\"))\n",
    "    \n",
    "lems = pickle.load(open(\"pkl_files/words.pkl\", \"rb\"))\n",
    "print \"End result:\"\n",
    "print lems[:10]"
   ]
  },
  {
   "cell_type": "markdown",
   "metadata": {},
   "source": [
    "Keep a list of tuples with every word and its frequency of occurence in each tweet"
   ]
  },
  {
   "cell_type": "code",
   "execution_count": 5,
   "metadata": {},
   "outputs": [
    {
     "name": "stdout",
     "output_type": "stream",
     "text": [
      "28059\n"
     ]
    }
   ],
   "source": [
    "#fix tuples\n",
    "total = []\n",
    "for lst in lems:\n",
    "    if len(lst) > 0:\n",
    "        count = Counter(lst)\n",
    "        total.append(count.most_common(len(count)))\n",
    "print len(total)"
   ]
  },
  {
   "cell_type": "markdown",
   "metadata": {},
   "source": [
    "## Analyze data of training set"
   ]
  },
  {
   "cell_type": "markdown",
   "metadata": {},
   "source": [
    "Some code for finding useful statistics and wordclouds for presenting"
   ]
  },
  {
   "cell_type": "code",
   "execution_count": 6,
   "metadata": {},
   "outputs": [
    {
     "data": {
      "image/png": "[encoded data removed]",
      "text/plain": [
       "<Figure size 432x288 with 1 Axes>"
      ]
     },
     "metadata": {
      "needs_background": "light"
     },
     "output_type": "display_data"
    }
   ],
   "source": [
    "# find most common words in whole corpus -> wordcloud\n",
    "\n",
    "buf = []\n",
    "for lst in lems:\n",
    "    for value in lst:\n",
    "        buf.append(value)\n",
    "count = Counter(buf)\n",
    "\n",
    "#freq is a string with the 20 most common words\n",
    "freq = \"\"\n",
    "for x in count.most_common(20):\n",
    "    freq += x[0] + ' '\n",
    "wordcloud = WordCloud(max_font_size=50, max_words=20, background_color=\"white\").generate(freq)\n",
    "\n",
    "# Display the generated image:\n",
    "plt.figure()\n",
    "plt.imshow(wordcloud, interpolation='bilinear')\n",
    "plt.axis(\"off\")\n",
    "plt.show()"
   ]
  },
  {
   "cell_type": "code",
   "execution_count": 7,
   "metadata": {},
   "outputs": [
    {
     "data": {
      "image/png": "[encoded data removed]",
      "text/plain": [
       "<Figure size 432x288 with 1 Axes>"
      ]
     },
     "metadata": {
      "needs_background": "light"
     },
     "output_type": "display_data"
    }
   ],
   "source": [
    "# find most frequent words for each sentiment category -> unique(set) -> wordcloud\n",
    "\n",
    "#positive\n",
    "pos_words = []\n",
    "neg_words = []\n",
    "neutral_words = []\n",
    "for idx, item in enumerate(lems):\n",
    "    for x in item:\n",
    "        if data['sent'][idx] == \"positive\":\n",
    "            pos_words.append(x)\n",
    "        elif data['sent'][idx] == \"negative\":\n",
    "            neg_words.append(x)\n",
    "        else:\n",
    "            neutral_words.append(x)\n",
    "\n",
    "count1 = Counter(pos_words)\n",
    "count2 = Counter(neg_words)\n",
    "count3 = Counter(neutral_words)\n",
    "\n",
    "out = ' '.join([x[0] for x in count1.most_common(10)])\n",
    "out += ' '.join([x[0] for x in count2.most_common(10)])\n",
    "out += ' '.join([x[0] for x in count3.most_common(10)])\n",
    "\n",
    "wordcloud = WordCloud(max_font_size=40, max_words=20, background_color=\"white\").generate(out)\n",
    "\n",
    "# Display the generated image:\n",
    "plt.figure()\n",
    "plt.imshow(wordcloud, interpolation='bilinear')\n",
    "plt.axis(\"off\")\n",
    "plt.show()"
   ]
  },
  {
   "cell_type": "code",
   "execution_count": 8,
   "metadata": {
    "scrolled": true
   },
   "outputs": [
    {
     "name": "stdout",
     "output_type": "stream",
     "text": [
      "27851\n",
      "['stern', 'dne', 'dng', 'dna', 'brizo', 'dnc', 'catchy', 'cannibal', 'degreesa', 'dnt', 'music', 'therefore', 'musia', 'dnr', 'catchh', 'yahoo', 'luttrell', 'hermann', 'tradeins', 'bummy', u'unpack', 'intake', 'morally', 'momentgoing', 'locker', u'tomahawk', 'matilda', 'wana', 'wang', 'wand', 'hyatt', 'wank', 'want', 'munzee', 'absolute', 'mcmuffin', u'travel', 'tftbl', 'dannok', 'selfesteem', 'festuc', 'flossin', 'wrong', 'shreya', \"'new\", u'tulip', 'romper', 'jialat', 'aargh', 'burleigh']\n"
     ]
    }
   ],
   "source": [
    "#find number of unique tokens\n",
    "unique = set()\n",
    "for lst in lems:           #stin lems einai oi pio \"kathares\" lekseis\n",
    "    for value in lst:\n",
    "        unique.add(value)\n",
    "print len(unique)\n",
    "print list(unique)[50:100]"
   ]
  },
  {
   "cell_type": "markdown",
   "metadata": {},
   "source": [
    "## Open testing set and prepare data"
   ]
  },
  {
   "cell_type": "code",
   "execution_count": 9,
   "metadata": {},
   "outputs": [
    {
     "data": {
      "text/plain": [
       "Index([u'id1', u'id2', u'sent', u'tweet'], dtype='object')"
      ]
     },
     "execution_count": 9,
     "metadata": {},
     "output_type": "execute_result"
    }
   ],
   "source": [
    "test_data = pd.read_csv(\"twitter_data/test2017.tsv\", engine='python', sep=\"\\t+\", escapechar='\\\\', header=None, names=['id1','id2','sent','tweet'])\n",
    "test_data.columns"
   ]
  },
  {
   "cell_type": "code",
   "execution_count": 10,
   "metadata": {},
   "outputs": [
    {
     "name": "stdout",
     "output_type": "stream",
     "text": [
      "Index([u'id', u'sent'], dtype='object')\n",
      "<class 'pandas.core.frame.DataFrame'>\n",
      "RangeIndex: 12284 entries, 0 to 12283\n",
      "Data columns (total 2 columns):\n",
      "id      12284 non-null int64\n",
      "sent    12284 non-null object\n",
      "dtypes: int64(1), object(1)\n",
      "memory usage: 192.0+ KB\n",
      "None\n"
     ]
    }
   ],
   "source": [
    "#open gold.csv for f1 score only!\n",
    "\n",
    "val_data = pd.read_csv(\"twitter_data/SemEval2017_task4_subtaskA_test_english_gold.txt\", engine='python', sep=\"\\t+\", header=None,names=['id','sent'])\n",
    "print val_data.columns\n",
    "print val_data.info()"
   ]
  },
  {
   "cell_type": "markdown",
   "metadata": {},
   "source": [
    "#### Make X,y sets for validation and test sets"
   ]
  },
  {
   "cell_type": "markdown",
   "metadata": {},
   "source": [
    "**yval**:  Contains y of training (validation) set<br>\n",
    "**ycor**:  Contains y of testing set<br>\n",
    "**Χ**:     For testing set"
   ]
  },
  {
   "cell_type": "code",
   "execution_count": 11,
   "metadata": {},
   "outputs": [
    {
     "name": "stdout",
     "output_type": "stream",
     "text": [
      "28059\n"
     ]
    }
   ],
   "source": [
    "#y value, only for validation\n",
    "y = data.sent\n",
    "yval = []\n",
    "for i in range(len(y)):\n",
    "    if len(lems[i]) == 0:\n",
    "        continue\n",
    "    v = y[i]\n",
    "    if v == 'neutral':\n",
    "        yval.append(0)\n",
    "    if v == 'positive':\n",
    "        yval.append(1)\n",
    "    if v == 'negative':\n",
    "        yval.append(-1)\n",
    "print len(yval)"
   ]
  },
  {
   "cell_type": "code",
   "execution_count": 12,
   "metadata": {},
   "outputs": [
    {
     "name": "stdout",
     "output_type": "stream",
     "text": [
      "12284\n"
     ]
    }
   ],
   "source": [
    "#X and y values --> FOR test2017.csv\n",
    "\n",
    "X = test_data.tweet\n",
    "tmp = val_data.sent\n",
    "\n",
    "ycor = []\n",
    "for v in tmp:\n",
    "    if v == 'neutral':\n",
    "        ycor.append(0)\n",
    "    if v == 'positive':\n",
    "        ycor.append(1)\n",
    "    if v == 'negative':\n",
    "        ycor.append(-1)\n",
    "print len(ycor)"
   ]
  },
  {
   "cell_type": "markdown",
   "metadata": {},
   "source": [
    "Same list of tuples as above, but for test data"
   ]
  },
  {
   "cell_type": "code",
   "execution_count": 13,
   "metadata": {},
   "outputs": [
    {
     "name": "stdout",
     "output_type": "stream",
     "text": [
      "[[('#Singer', 1), ('Full', 1), ('80%', 1), ('Ariana', 1), ('#Actress', 1), ('Grande', 1), ('Ari', 1), ('By', 1), ('#ArianaGrande', 1)], [('KIIS', 1), ('Ariana', 1), ('Truly', 1), ('Burbank', 1), ('FM', 1), ('Grande', 1), ('listening', 1), ('in', 1), ('party', 1), ('CD', 1), ('Yours', 1), ('#ArianaGrande', 1)], [('House', 1), ('Washington', 1), ('Ariana', 1), ('Grande', 1), ('in', 1), ('Easter', 1), ('White', 1), ('Egg', 1), ('Roll', 1), ('#ArianaGrande', 1)], [('Box', 1), ('Like', 1), ('New', 1), ('Sweet', 1), ('100%', 1), ('In', 1), ('Candy', 1), ('Ariana', 1), ('3.4', 1), ('#Musics', 1), ('Grande', 1), ('Sealed', 1), ('ML', 1), ('#CD', 1), ('100', 1), ('Authenic', 1), ('oz', 1)], [('SIDE', 2), (\"#LOTB'\", 1), ('@arianagrande', 1), ('#musically', 1), ('TO', 1), ('#arianagrande', 1), ('#comunidadgay', 1), ('#lgbt', 1), ('#sidetoside', 1)]]\n"
     ]
    }
   ],
   "source": [
    "words = []\n",
    "for s in X:\n",
    "    words.append(s.split())\n",
    "\n",
    "total_test = []\n",
    "for lst in words:\n",
    "    count = Counter(lst)\n",
    "    total_test.append(count.most_common(len(count)))\n",
    "print total_test[:5]"
   ]
  },
  {
   "cell_type": "markdown",
   "metadata": {},
   "source": [
    "## Bag of words "
   ]
  },
  {
   "cell_type": "markdown",
   "metadata": {},
   "source": [
    "**NOTE**: All the useful data saved in **.pkl** files will exist in **\"pkl_files\"** directory"
   ]
  },
  {
   "cell_type": "code",
   "execution_count": 14,
   "metadata": {},
   "outputs": [
    {
     "name": "stdout",
     "output_type": "stream",
     "text": [
      "28059\n",
      "(28059, 3000)\n"
     ]
    }
   ],
   "source": [
    "from sklearn.feature_extraction.text import CountVectorizer\n",
    "\n",
    "#concatenate words into sentences\n",
    "con_tweets = []\n",
    "for lst in lems:\n",
    "    if len(lst)>0:\n",
    "        con_tweets.append(' '.join(lst))\n",
    "print len(con_tweets)\n",
    "\n",
    "\n",
    "#make bag-of-words\n",
    "if not os.path.isfile(\"pkl_files/bow_train.pkl\"):\n",
    "    bow_vectorizer = CountVectorizer(max_df=0.90, min_df=2, max_features=3000, stop_words='english')\n",
    "    bow_xtrain = bow_vectorizer.fit_transform(con_tweets)\n",
    "    pickle.dump(bow_xtrain, open(\"pkl_files/bow_train.pkl\", \"wb\"))\n",
    "\n",
    "bow_xtrain = pickle.load(open( \"pkl_files/bow_train.pkl\", \"rb\" ))\n",
    "print bow_xtrain.shape"
   ]
  },
  {
   "cell_type": "code",
   "execution_count": 15,
   "metadata": {},
   "outputs": [
    {
     "name": "stdout",
     "output_type": "stream",
     "text": [
      "(12284, 3000)\n"
     ]
    }
   ],
   "source": [
    "#bag of words for testing\n",
    "if not os.path.isfile(\"pkl_files/bow_test.pkl\"):\n",
    "    bow_vectorizer = CountVectorizer(max_df=0.90, min_df=2, max_features=3000, stop_words='english') \n",
    "    bow_xtest = bow_vectorizer.fit_transform(X)  #X : a list with the actual tweets to test \n",
    "    pickle.dump(bow_xtest, open(\"pkl_files/bow_test.pkl\", \"wb\"))      #save in bow.pkl\n",
    "    \n",
    "bow_xtest = pickle.load(open( \"pkl_files/bow_test.pkl\", \"rb\" ))\n",
    "print(bow_xtest.shape)"
   ]
  },
  {
   "cell_type": "markdown",
   "metadata": {},
   "source": [
    "## TF-IDF"
   ]
  },
  {
   "cell_type": "code",
   "execution_count": 16,
   "metadata": {},
   "outputs": [
    {
     "name": "stdout",
     "output_type": "stream",
     "text": [
      "(28059, 3000)\n"
     ]
    }
   ],
   "source": [
    "from sklearn.feature_extraction.text import TfidfVectorizer\n",
    "\n",
    "if not os.path.isfile(\"pkl_files/ifidf_train.pkl\"):\n",
    "    tfidf_vectorizer = TfidfVectorizer(max_df=0.90, min_df=2, max_features=3000, stop_words='english')\n",
    "    tfidf_temp = tfidf_vectorizer.fit_transform(con_tweets)\n",
    "    pickle.dump(tfidf_temp, open(\"pkl_files/tfidf_train.pkl\", \"wb\"))        #save tf_idf.pkl\n",
    "    \n",
    "tfidf_train = pickle.load(open( \"pkl_files/tfidf_train.pkl\", \"rb\" ))\n",
    "print tfidf_train.shape"
   ]
  },
  {
   "cell_type": "code",
   "execution_count": 17,
   "metadata": {},
   "outputs": [
    {
     "name": "stdout",
     "output_type": "stream",
     "text": [
      "(12284, 3000)\n"
     ]
    }
   ],
   "source": [
    "#tfidf for testing\n",
    "\n",
    "if not os.path.isfile(\"pkl_files/ifidf_test.pkl\"):\n",
    "    tfidf_vectorizer = TfidfVectorizer(max_df=0.90, min_df=2, max_features=3000, stop_words='english')\n",
    "    tfidf_temp = tfidf_vectorizer.fit_transform(X)\n",
    "    pickle.dump(tfidf_temp, open(\"pkl_files/tfidf_test.pkl\", \"wb\"))        #save tf_idf.pkl\n",
    "    \n",
    "tfidf_test = pickle.load(open( \"pkl_files/tfidf_test.pkl\", \"rb\" ))\n",
    "print tfidf_test.shape"
   ]
  },
  {
   "cell_type": "markdown",
   "metadata": {},
   "source": [
    "## Word embeddings"
   ]
  },
  {
   "cell_type": "code",
   "execution_count": 18,
   "metadata": {},
   "outputs": [
    {
     "data": {
      "text/plain": [
       "[('conor', 0.9781937599182129),\n",
       " ('ndround', 0.6552845239639282),\n",
       " ('humbleness', 0.6272361278533936),\n",
       " ('aldo', 0.6258029937744141),\n",
       " ('recovers', 0.6216188669204712),\n",
       " ('faber', 0.6211392879486084),\n",
       " ('breathtaking', 0.6193422675132751),\n",
       " ('avecessi', 0.6108793020248413),\n",
       " ('urijah', 0.6097930073738098),\n",
       " ('ronda', 0.6081383228302002)]"
      ]
     },
     "execution_count": 18,
     "metadata": {},
     "output_type": "execute_result"
    }
   ],
   "source": [
    "from gensim.test.utils import common_texts, get_tmpfile\n",
    "from gensim.models import Word2Vec\n",
    "\n",
    "if not os.path.isfile(\"pkl_files/wemb_train.pkl\"):\n",
    "    model_w2v = gensim.models.Word2Vec(\n",
    "    lems,     #give lemmatized words!\n",
    "    size=300, # desired no. of features/independent variables\n",
    "    window=5, # context window size\n",
    "    min_count=1,\n",
    "    sg = 1, # 1 for skip-gram model\n",
    "    hs = 0,\n",
    "    negative = 10, # for negative sampling\n",
    "    workers= 2, # no.of cores\n",
    "    seed = 34)\n",
    "    \n",
    "    model_w2v.train(lems, total_examples= len(lems), epochs=20)\n",
    "    pickle.dump(model_w2v, open(\"pkl_files/wemb_train.pkl\", \"wb\"))\n",
    "\n",
    "model_w2v_train = pickle.load(open( \"pkl_files/wemb_train.pkl\", \"rb\" ))\n",
    "\n",
    "#little test :p\n",
    "model_w2v_train.wv.most_similar(positive=\"mcgregor\")"
   ]
  },
  {
   "cell_type": "code",
   "execution_count": 19,
   "metadata": {
    "scrolled": true
   },
   "outputs": [],
   "source": [
    "#word embeddings for testing\n",
    "\n",
    "if not os.path.isfile(\"pkl_files/wemb_test.pkl\"):\n",
    "    model_w2v = gensim.models.Word2Vec(\n",
    "    words,     #give our set X - its words!\n",
    "    size=300, # desired no. of features/independent variables\n",
    "    window=5, # context window size\n",
    "    min_count=1,\n",
    "    sg = 1, # 1 for skip-gram model\n",
    "    hs = 0,\n",
    "    negative = 10, # for negative sampling\n",
    "    workers= 2, # no.of cores\n",
    "    seed = 34)\n",
    "    \n",
    "    model_w2v.train(lems, total_examples= len(words), epochs=20)\n",
    "    pickle.dump(model_w2v, open(\"pkl_files/wemb_test.pkl\", \"wb\"))\n",
    "    \n",
    "model_w2v_test = pickle.load(open( \"pkl_files/wemb_test.pkl\", \"rb\" ))"
   ]
  },
  {
   "cell_type": "markdown",
   "metadata": {},
   "source": [
    "Word embeddings **visualization**"
   ]
  },
  {
   "cell_type": "code",
   "execution_count": 20,
   "metadata": {},
   "outputs": [],
   "source": [
    "#function to show the word embeddings visualization\n",
    "\n",
    "from sklearn.decomposition import PCA\n",
    "from sklearn.manifold import TSNE\n",
    "\n",
    "def tsne_plot(model):\n",
    "    labels = []\n",
    "    tokens = []\n",
    "    count = 0\n",
    "    for word in model.wv.vocab:\n",
    "        tokens.append(model[word])\n",
    "        labels.append(word)\n",
    "        count += 1\n",
    "        if count == 1000:\n",
    "            break\n",
    "        \n",
    "    tsne_model = TSNE(perplexity=40, n_components=2,\n",
    "                        init='pca', n_iter=2500, random_state=23)\n",
    "    new_values = tsne_model.fit_transform(tokens)\n",
    "    x = []\n",
    "    y = []\n",
    "    for value in new_values:\n",
    "        x.append(value[0])\n",
    "        y.append(value[1])\n",
    "\n",
    "    plt.figure(figsize=(16, 16))\n",
    "    for i in range(180):\n",
    "        plt.scatter(x[i],y[i])\n",
    "        plt.annotate(labels[i],\n",
    "                    xy=(x[i], y[i]),\n",
    "                    xytext=(5, 2),\n",
    "                    textcoords='offset points',\n",
    "                    ha='right',\n",
    "                    va='bottom')\n",
    "    plt.show()"
   ]
  },
  {
   "cell_type": "code",
   "execution_count": 21,
   "metadata": {
    "scrolled": false
   },
   "outputs": [
    {
     "name": "stderr",
     "output_type": "stream",
     "text": [
      "/home/errikos/anaconda2/lib/python2.7/site-packages/ipykernel_launcher.py:11: DeprecationWarning: Call to deprecated `__getitem__` (Method will be removed in 4.0.0, use self.wv.__getitem__() instead).\n",
      "  # This is added back by InteractiveShellApp.init_path()\n"
     ]
    },
    {
     "data": {
      "image/png": "[encoded data removed]",
      "text/plain": [
       "<Figure size 1152x1152 with 1 Axes>"
      ]
     },
     "metadata": {
      "needs_background": "light"
     },
     "output_type": "display_data"
    }
   ],
   "source": [
    "#call\n",
    "\n",
    "tsne_plot(model_w2v_train)"
   ]
  },
  {
   "cell_type": "markdown",
   "metadata": {},
   "source": [
    "#### Combine the vectors of each word into one for the whole tweet"
   ]
  },
  {
   "cell_type": "code",
   "execution_count": 22,
   "metadata": {},
   "outputs": [],
   "source": [
    "#func to add all vectors of words into one (for every tweet)\n",
    "\n",
    "def fix_vectors(tuples, model):\n",
    "    tv = []\n",
    "    for i in range(len(tuples)):\n",
    "        sent = tuples[i]\n",
    "        temp = []\n",
    "        count=0\n",
    "        for tpl in sent:\n",
    "            v = model[tpl[0]]\n",
    "            v = v*tpl[1]\n",
    "            temp.append(v)\n",
    "            count += 1\n",
    "        if temp:\n",
    "            a = reduce(lambda x,y: x+y, temp)\n",
    "            tv.append(a/count)\n",
    "    return tv"
   ]
  },
  {
   "cell_type": "markdown",
   "metadata": {},
   "source": [
    "Lexicon analysis --> search lexicon files, compute the **-mean-** value of valence of each tweet and add as extra feature.<br>\n",
    "In our case, each word will have **300** features and if we perform searches in **N** files, each vector will end up having 300+N features"
   ]
  },
  {
   "cell_type": "code",
   "execution_count": 23,
   "metadata": {},
   "outputs": [],
   "source": [
    "#lex_file must contain whole path from current to lexicon\n",
    "\n",
    "import collections as cl\n",
    "\n",
    "def lexicon_analysis(lex_file, total):\n",
    "    lex_data = pd.read_csv(lex_file, engine='python', sep=\"\\t+\", escapechar='\\\\', header=None, names=['word','val'])\n",
    "    word_dict = cl.defaultdict()\n",
    "    for row in lex_data.itertuples():\n",
    "        word_dict[row.word] = row.val\n",
    "\n",
    "    lexicon_vals = []\n",
    "    for i in range(len(total)):\n",
    "        tweet = total[i]\n",
    "        sum = 0\n",
    "        for word, count in tweet:\n",
    "            if word_dict.get(word):\n",
    "            #word in lexicon\n",
    "                sum += word_dict[word] * count\n",
    "        lexicon_vals.append(sum)\n",
    "\n",
    "    for i,v in enumerate(lexicon_vals):\n",
    "        if v < 0:\n",
    "            lexicon_vals[i] = -1\n",
    "        if v == 0:\n",
    "            lexicon_vals[i] = 0\n",
    "        if v > 0:\n",
    "            lexicon_vals[i] = 1\n",
    "    return lexicon_vals"
   ]
  },
  {
   "cell_type": "code",
   "execution_count": 24,
   "metadata": {},
   "outputs": [
    {
     "name": "stderr",
     "output_type": "stream",
     "text": [
      "/home/errikos/anaconda2/lib/python2.7/site-packages/ipykernel_launcher.py:10: DeprecationWarning: Call to deprecated `__getitem__` (Method will be removed in 4.0.0, use self.wv.__getitem__() instead).\n",
      "  # Remove the CWD from sys.path while we load stuff.\n"
     ]
    },
    {
     "name": "stdout",
     "output_type": "stream",
     "text": [
      "Total length:  28059\n",
      "Length of individual vector:  300\n",
      "Total length:  12284\n",
      "Length of individual vector:  300\n"
     ]
    }
   ],
   "source": [
    "tweet_vectors = fix_vectors(total, model_w2v_train)\n",
    "print \"Total length: \", len(tweet_vectors)\n",
    "print \"Length of individual vector: \", len(tweet_vectors[0])\n",
    "\n",
    "tweet_vectors_test = fix_vectors(total_test, model_w2v_test)\n",
    "print \"Total length: \", len(tweet_vectors_test)\n",
    "print \"Length of individual vector: \", len(tweet_vectors_test[0])"
   ]
  },
  {
   "cell_type": "markdown",
   "metadata": {},
   "source": [
    "#### Add some extra features in each vector"
   ]
  },
  {
   "cell_type": "markdown",
   "metadata": {},
   "source": [
    "Count positive/negative tags in tweets"
   ]
  },
  {
   "cell_type": "code",
   "execution_count": 25,
   "metadata": {},
   "outputs": [],
   "source": [
    "index=0\n",
    "for i in range(len(con_tweets)):\n",
    "    tweet_vectors[index] = np.append(tweet_vectors[index], [con_tweets[i].count(\"positive_tag\"), con_tweets[i].count(\"negative\")])\n",
    "    index += 1"
   ]
  },
  {
   "cell_type": "code",
   "execution_count": 26,
   "metadata": {},
   "outputs": [],
   "source": [
    "pos_count, neg_count = [],[]\n",
    "pos_regex = '[:;]-?[)Dp]+|<3'\n",
    "neg_regex = ':-?\\'?[(/Oo]+'\n",
    "for sent in X:\n",
    "    plen = len(re.findall(pos_regex, sent))\n",
    "    pos_count.append(plen) if plen > 0 else pos_count.append(0)\n",
    "    nlen = len(re.findall(neg_regex, sent))\n",
    "    neg_count.append(nlen) if nlen > 0 else neg_count.append(0)\n",
    "    \n",
    "#add them to tweet_vectors_test\n",
    "index=0\n",
    "for i in range(len(words)):\n",
    "    tweet_vectors_test[index] = np.append(tweet_vectors_test[index], [pos_count[index], neg_count[index]])\n",
    "    index += 1"
   ]
  },
  {
   "cell_type": "code",
   "execution_count": 27,
   "metadata": {},
   "outputs": [
    {
     "name": "stdout",
     "output_type": "stream",
     "text": [
      "307\n"
     ]
    }
   ],
   "source": [
    "#run above function for the wanted files in lexica\n",
    "v1_train = lexicon_analysis(\"lexica/affin/affin.txt\", total)\n",
    "v2_train = lexicon_analysis(\"lexica/emotweet/valence_tweet.txt\", total)\n",
    "v3_train = lexicon_analysis(\"lexica/generic/generic.txt\", total)\n",
    "v4_train = lexicon_analysis(\"lexica/mydict/mydict.txt\", total)\n",
    "\n",
    "#add the vectors calculated to the tweets\n",
    "i=0\n",
    "for index in range(len(tweet_vectors)):\n",
    "    tweet_vectors[index] = np.append(tweet_vectors[index], [v1_train[index], v2_train[index], v3_train[index], v4_train[index], len(total[i])])\n",
    "    i += 1\n",
    "print len(tweet_vectors[0])"
   ]
  },
  {
   "cell_type": "code",
   "execution_count": 29,
   "metadata": {},
   "outputs": [
    {
     "name": "stdout",
     "output_type": "stream",
     "text": [
      "307\n"
     ]
    }
   ],
   "source": [
    "#run above function for the wanted files in lexica\n",
    "v1_test = lexicon_analysis(\"lexica/affin/affin.txt\", total_test)\n",
    "v2_test = lexicon_analysis(\"lexica/emotweet/valence_tweet.txt\", total_test)\n",
    "v3_test = lexicon_analysis(\"lexica/generic/generic.txt\", total_test)\n",
    "v4_test = lexicon_analysis(\"lexica/mydict/mydict.txt\", total_test)\n",
    "\n",
    "#add the vectors calculated to the tweets\n",
    "i=0\n",
    "for index in range(len(tweet_vectors_test)):\n",
    "    tweet_vectors_test[index] = np.append(tweet_vectors_test[index], [v1_test[index], v2_test[index], v3_test[index], v4_test[index], len(words[i])])\n",
    "    i += 1\n",
    "print len(tweet_vectors_test[0])"
   ]
  },
  {
   "cell_type": "markdown",
   "metadata": {},
   "source": [
    "## SVM"
   ]
  },
  {
   "cell_type": "markdown",
   "metadata": {},
   "source": [
    "**BOW** and validation set"
   ]
  },
  {
   "cell_type": "code",
   "execution_count": 30,
   "metadata": {},
   "outputs": [],
   "source": [
    "#split training set\n",
    "xtrain_bow, xvalid_bow, ytrain, yvalid = train_test_split(bow_xtrain, yval, random_state=42, test_size=0.2)\n",
    "svc = svm.SVC(kernel='linear', C=1, probability=True)\n",
    "svc = svc.fit(xtrain_bow[:5000], ytrain[:5000])"
   ]
  },
  {
   "cell_type": "code",
   "execution_count": 31,
   "metadata": {},
   "outputs": [
    {
     "name": "stdout",
     "output_type": "stream",
     "text": [
      "0.5803635067712045\n"
     ]
    }
   ],
   "source": [
    "prediction_bow = svc.predict(xvalid_bow)\n",
    "svm_score_bow_train = f1_score(yvalid, prediction_bow, average='micro')\n",
    "print svm_score_bow_train"
   ]
  },
  {
   "cell_type": "markdown",
   "metadata": {},
   "source": [
    "**BOW** and testing set"
   ]
  },
  {
   "cell_type": "code",
   "execution_count": 32,
   "metadata": {},
   "outputs": [
    {
     "name": "stdout",
     "output_type": "stream",
     "text": [
      "0.39807880169325954\n"
     ]
    }
   ],
   "source": [
    "prediction_bow = svc.predict(bow_xtest)\n",
    "svm_score_bow_test = f1_score(ycor, prediction_bow, average='micro')\n",
    "print svm_score_bow_test"
   ]
  },
  {
   "cell_type": "markdown",
   "metadata": {},
   "source": [
    "**TF_IDF** and validation set"
   ]
  },
  {
   "cell_type": "code",
   "execution_count": 33,
   "metadata": {},
   "outputs": [],
   "source": [
    "xtrain_idf, xvalid_idf, ytrain, yvalid = train_test_split(tfidf_train, yval, random_state=42, test_size=0.2)\n",
    "svc = svm.SVC(kernel='linear', C=1, probability=True)\n",
    "svc = svc.fit(xtrain_idf[:5000], ytrain[:5000])"
   ]
  },
  {
   "cell_type": "code",
   "execution_count": 34,
   "metadata": {},
   "outputs": [
    {
     "name": "stdout",
     "output_type": "stream",
     "text": [
      "0.6170705630791162\n"
     ]
    }
   ],
   "source": [
    "prediction_idf = svc.predict(xvalid_idf)\n",
    "svm_score_idf_train = f1_score(yvalid, prediction_idf, average='micro')\n",
    "print svm_score_idf_train"
   ]
  },
  {
   "cell_type": "markdown",
   "metadata": {},
   "source": [
    "**TF_IDF** and testing set"
   ]
  },
  {
   "cell_type": "code",
   "execution_count": 35,
   "metadata": {},
   "outputs": [
    {
     "name": "stdout",
     "output_type": "stream",
     "text": [
      "0.42144252686421363\n"
     ]
    }
   ],
   "source": [
    "prediction_idf = svc.predict(tfidf_test)\n",
    "svm_score_idf_test = f1_score(ycor, prediction_idf, average='micro')\n",
    "print svm_score_idf_test"
   ]
  },
  {
   "cell_type": "markdown",
   "metadata": {},
   "source": [
    "**Word Embeddings** and validation set"
   ]
  },
  {
   "cell_type": "code",
   "execution_count": 36,
   "metadata": {},
   "outputs": [],
   "source": [
    "xtrain_we, xvalid_we, ytrain, yvalid = train_test_split(tweet_vectors, yval, random_state=42, test_size=0.2)\n",
    "svc = svm.SVC(kernel='linear', C=1, probability=True)\n",
    "svc = svc.fit(xtrain_we[:6000], ytrain[:6000])"
   ]
  },
  {
   "cell_type": "code",
   "execution_count": 37,
   "metadata": {},
   "outputs": [
    {
     "name": "stdout",
     "output_type": "stream",
     "text": [
      "0.6234853884533144\n"
     ]
    }
   ],
   "source": [
    "prediction_we = svc.predict(xvalid_we)\n",
    "svm_score_we_train = f1_score(yvalid, prediction_we, average='micro')\n",
    "print svm_score_we_train"
   ]
  },
  {
   "cell_type": "markdown",
   "metadata": {},
   "source": [
    "**Word Embeddings** and testing set"
   ]
  },
  {
   "cell_type": "code",
   "execution_count": 38,
   "metadata": {},
   "outputs": [
    {
     "name": "stdout",
     "output_type": "stream",
     "text": [
      "0.4752523607945295\n"
     ]
    }
   ],
   "source": [
    "prediction_we = svc.predict(tweet_vectors_test)\n",
    "svm_score_we_test = f1_score(ycor, prediction_we, average='micro')\n",
    "print svm_score_we_test"
   ]
  },
  {
   "cell_type": "markdown",
   "metadata": {},
   "source": [
    "## KNN"
   ]
  },
  {
   "cell_type": "markdown",
   "metadata": {},
   "source": [
    "**BOW** and validation set"
   ]
  },
  {
   "cell_type": "code",
   "execution_count": 39,
   "metadata": {},
   "outputs": [
    {
     "data": {
      "text/plain": [
       "KNeighborsClassifier(algorithm='auto', leaf_size=30, metric='minkowski',\n",
       "           metric_params=None, n_jobs=None, n_neighbors=20, p=2,\n",
       "           weights='uniform')"
      ]
     },
     "execution_count": 39,
     "metadata": {},
     "output_type": "execute_result"
    }
   ],
   "source": [
    "from sklearn.neighbors import KNeighborsClassifier\n",
    "\n",
    "xtrain_bow, xvalid_bow, ytrain, yvalid = train_test_split(bow_xtrain, yval, random_state=42, test_size=0.2)\n",
    "knn = KNeighborsClassifier(n_neighbors=20)\n",
    "knn.fit(xtrain_bow[:5000], ytrain[:5000])"
   ]
  },
  {
   "cell_type": "code",
   "execution_count": 40,
   "metadata": {},
   "outputs": [
    {
     "name": "stdout",
     "output_type": "stream",
     "text": [
      "0.4476122594440485\n"
     ]
    }
   ],
   "source": [
    "prediction_bow = knn.predict(xvalid_bow)\n",
    "knn_score_bow_train = f1_score(yvalid, prediction_bow, average=\"micro\")\n",
    "print knn_score_bow_train"
   ]
  },
  {
   "cell_type": "markdown",
   "metadata": {},
   "source": [
    "**BOW** and testing set"
   ]
  },
  {
   "cell_type": "code",
   "execution_count": 41,
   "metadata": {},
   "outputs": [
    {
     "name": "stdout",
     "output_type": "stream",
     "text": [
      "0.48314881146206445\n"
     ]
    }
   ],
   "source": [
    "prediction_bow = knn.predict(bow_xtest)\n",
    "knn_score_bow_test = f1_score(ycor, prediction_bow, average=\"micro\")\n",
    "print knn_score_bow_test"
   ]
  },
  {
   "cell_type": "markdown",
   "metadata": {},
   "source": [
    "**TF_IDF** and validation set"
   ]
  },
  {
   "cell_type": "code",
   "execution_count": 42,
   "metadata": {},
   "outputs": [
    {
     "data": {
      "text/plain": [
       "KNeighborsClassifier(algorithm='auto', leaf_size=30, metric='minkowski',\n",
       "           metric_params=None, n_jobs=None, n_neighbors=20, p=2,\n",
       "           weights='uniform')"
      ]
     },
     "execution_count": 42,
     "metadata": {},
     "output_type": "execute_result"
    }
   ],
   "source": [
    "xtrain_idf, xvalid_idf, ytrain, yvalid = train_test_split(tfidf_train, yval, random_state=42, test_size=0.2)\n",
    "knn = KNeighborsClassifier(n_neighbors=20)\n",
    "knn.fit(xtrain_idf[:5000], ytrain[:5000])"
   ]
  },
  {
   "cell_type": "code",
   "execution_count": 43,
   "metadata": {},
   "outputs": [
    {
     "name": "stdout",
     "output_type": "stream",
     "text": [
      "0.43745545260156815\n"
     ]
    }
   ],
   "source": [
    "prediction_idf = knn.predict(xvalid_idf)\n",
    "knn_score_idf_train = f1_score(yvalid, prediction_idf, average=\"micro\")\n",
    "print knn_score_idf_train"
   ]
  },
  {
   "cell_type": "markdown",
   "metadata": {},
   "source": [
    "**TF_IDF** and testing set"
   ]
  },
  {
   "cell_type": "code",
   "execution_count": 44,
   "metadata": {},
   "outputs": [
    {
     "name": "stdout",
     "output_type": "stream",
     "text": [
      "0.4832302181699772\n"
     ]
    }
   ],
   "source": [
    "prediction_idf = knn.predict(tfidf_test)\n",
    "knn_score_idf_test = f1_score(ycor, prediction_idf, average=\"micro\")\n",
    "print knn_score_idf_test"
   ]
  },
  {
   "cell_type": "markdown",
   "metadata": {},
   "source": [
    "**Word Embeddings** and validation set"
   ]
  },
  {
   "cell_type": "code",
   "execution_count": 45,
   "metadata": {},
   "outputs": [
    {
     "data": {
      "text/plain": [
       "KNeighborsClassifier(algorithm='auto', leaf_size=30, metric='minkowski',\n",
       "           metric_params=None, n_jobs=None, n_neighbors=20, p=2,\n",
       "           weights='uniform')"
      ]
     },
     "execution_count": 45,
     "metadata": {},
     "output_type": "execute_result"
    }
   ],
   "source": [
    "xtrain_we, xvalid_we, ytrain, yvalid = train_test_split(tweet_vectors, yval, random_state=42, test_size=0.2)\n",
    "knn = KNeighborsClassifier(n_neighbors=20)\n",
    "knn.fit(xtrain_we[:6000], ytrain[:6000])"
   ]
  },
  {
   "cell_type": "code",
   "execution_count": 46,
   "metadata": {},
   "outputs": [
    {
     "name": "stdout",
     "output_type": "stream",
     "text": [
      "0.5915894511760513\n"
     ]
    }
   ],
   "source": [
    "prediction_we = knn.predict(xvalid_we)\n",
    "knn_score_we_train = f1_score(yvalid, prediction_we, average=\"micro\")\n",
    "print knn_score_we_train"
   ]
  },
  {
   "cell_type": "markdown",
   "metadata": {},
   "source": [
    "**Word Embeddings** and testing set"
   ]
  },
  {
   "cell_type": "code",
   "execution_count": 47,
   "metadata": {},
   "outputs": [
    {
     "name": "stdout",
     "output_type": "stream",
     "text": [
      "0.4969065450993162\n"
     ]
    }
   ],
   "source": [
    "prediction_we = knn.predict(tweet_vectors_test)\n",
    "knn_score_we_test = f1_score(ycor, prediction_we,  average='micro')\n",
    "print knn_score_we_test"
   ]
  },
  {
   "cell_type": "markdown",
   "metadata": {},
   "source": [
    "### Show f1 score in plots"
   ]
  },
  {
   "cell_type": "markdown",
   "metadata": {},
   "source": [
    "**SVM**"
   ]
  },
  {
   "cell_type": "code",
   "execution_count": 48,
   "metadata": {},
   "outputs": [],
   "source": [
    "svm_scores = [svm_score_bow_test, svm_score_bow_train, svm_score_idf_test, svm_score_idf_train, svm_score_we_test, svm_score_we_train]\n",
    "knn_scores = [knn_score_bow_test, knn_score_bow_train, knn_score_idf_test, knn_score_idf_train, knn_score_we_test, knn_score_we_train]\n",
    "labels = (\"bow test\", \"bow_train\", \"tf_idf test\", \"tf_idf train\", \"w-embbed test\", \"w-embbed train\")"
   ]
  },
  {
   "cell_type": "code",
   "execution_count": 49,
   "metadata": {},
   "outputs": [
    {
     "data": {
      "image/png": "[encoded data removed]",
      "text/plain": [
       "<Figure size 1080x360 with 1 Axes>"
      ]
     },
     "metadata": {
      "needs_background": "light"
     },
     "output_type": "display_data"
    }
   ],
   "source": [
    "x = np.arange(6)\n",
    "\n",
    "plt.figure(figsize=(15, 5))\n",
    "plt.title(\"SVM scores\")\n",
    "plt.bar(range(len(svm_scores)), svm_scores, color=\"r\", align=\"center\")\n",
    "plt.xticks(x, labels)\n",
    "plt.show()"
   ]
  },
  {
   "cell_type": "markdown",
   "metadata": {},
   "source": [
    "**KNN**"
   ]
  },
  {
   "cell_type": "code",
   "execution_count": 50,
   "metadata": {},
   "outputs": [
    {
     "data": {
      "image/png": "[encoded data removed]",
      "text/plain": [
       "<Figure size 1080x360 with 1 Axes>"
      ]
     },
     "metadata": {
      "needs_background": "light"
     },
     "output_type": "display_data"
    }
   ],
   "source": [
    "plt.figure(figsize=(15, 5))\n",
    "plt.title(\"KNN scores\")\n",
    "plt.bar(range(len(knn_scores)), knn_scores, color=\"b\", align=\"center\")\n",
    "plt.xticks(x, labels)\n",
    "plt.show()"
   ]
  },
  {
   "cell_type": "markdown",
   "metadata": {},
   "source": [
    "## Bonus: RoundRobin Classification"
   ]
  },
  {
   "cell_type": "markdown",
   "metadata": {},
   "source": [
    "Implementation of **Round Robin Classification** algorithm and executing with BOW, TF_IDF sets"
   ]
  },
  {
   "cell_type": "code",
   "execution_count": 51,
   "metadata": {},
   "outputs": [],
   "source": [
    "from scipy.sparse import lil_matrix\n",
    "\n",
    "def Round_Robin(y, ytest, train_data, test_data):\n",
    "    c1 = c2 = c3 = 0\n",
    "    for i,v in enumerate(y):\n",
    "        if v != 0:\n",
    "            c1 += 1  \n",
    "        if v != -1:\n",
    "            c2 += 1\n",
    "        if v != 1:\n",
    "            c3 += 1\n",
    "    pos_neg_x = lil_matrix((c1,3000))\n",
    "    pos_neg_y = []\n",
    "\n",
    "    pos_neu_x = lil_matrix((c2, 3000))\n",
    "    pos_neu_y = []\n",
    "\n",
    "    neg_neu_x = lil_matrix((c3, 3000))\n",
    "    neg_neu_y = []\n",
    "    c1 = c2 = c3 = 0\n",
    "    for i,v in enumerate(y):\n",
    "        if v != 0:\n",
    "            pos_neg_x[c1] = train_data[i]\n",
    "            pos_neg_y.append(v)\n",
    "            c1 += 1\n",
    "        if v != -1:\n",
    "            pos_neu_x[c1] = train_data[i]\n",
    "            pos_neu_y.append(v)\n",
    "            c2 += 1\n",
    "        if v != 1:\n",
    "            neg_neu_x[c1] = train_data[i]\n",
    "            neg_neu_y.append(v)\n",
    "            c3 += 1\n",
    "            \n",
    "    print pos_neg_x.shape, len(pos_neg_y)\n",
    "    print pos_neu_x.shape, len(pos_neu_y)\n",
    "    print neg_neu_x.shape, len(neg_neu_y)\n",
    "    \n",
    "    #Train Classifiers\n",
    "    pos_neg_knn = KNeighborsClassifier(n_neighbors=20)\n",
    "    pos_neg_knn.fit(pos_neg_x, pos_neg_y)\n",
    "\n",
    "    pos_neu_knn = KNeighborsClassifier(n_neighbors=20)\n",
    "    pos_neu_knn.fit(pos_neu_x, pos_neu_y)\n",
    "\n",
    "    neg_neu_knn = KNeighborsClassifier(n_neighbors=20)\n",
    "    neg_neu_knn.fit(neg_neu_x, neg_neu_y)\n",
    "    \n",
    "    #Get predictions\n",
    "    pos_neg_train_pred = pos_neg_knn.predict_proba(train_data)\n",
    "    pos_neg_test_pred = pos_neg_knn.predict_proba(test_data)\n",
    "    pos_neu_train_pred = pos_neu_knn.predict_proba(train_data)\n",
    "    pos_neu_test_pred = pos_neg_knn.predict_proba(test_data)\n",
    "    neg_neu_train_pred = neg_neu_knn.predict_proba(train_data)\n",
    "    neg_neu_test_pred = neg_neu_knn.predict_proba(test_data)\n",
    "    print neg_neu_train_pred.shape\n",
    "    \n",
    "    #Train the final KNN classifier\n",
    "    train_pred = np.concatenate((pos_neg_train_pred,pos_neu_train_pred, neg_neu_train_pred),axis=1)\n",
    "    test_pred = np.concatenate((pos_neg_test_pred,pos_neu_test_pred, neg_neu_test_pred),axis=1)\n",
    "    \n",
    "    #Run KNN\n",
    "    fin_classifier = KNeighborsClassifier(n_neighbors=20)\n",
    "    fin_classifier.fit(train_pred, y)\n",
    "    \n",
    "    prediction = fin_classifier.predict(train_pred)\n",
    "    train_score = f1_score(y, prediction, average='micro')\n",
    "    \n",
    "    prediction = fin_classifier.predict(test_pred)\n",
    "    test_score = f1_score(ytest, prediction, average='micro')\n",
    "    \n",
    "    return train_score, test_score"
   ]
  },
  {
   "cell_type": "markdown",
   "metadata": {},
   "source": [
    "**Bag of Words**"
   ]
  },
  {
   "cell_type": "code",
   "execution_count": 52,
   "metadata": {},
   "outputs": [
    {
     "name": "stdout",
     "output_type": "stream",
     "text": [
      "(15993, 3000) 15993\n",
      "(23583, 3000) 23583\n",
      "(16542, 3000) 16542\n",
      "(28059, 2)\n",
      "f1 score on training set:  0.5499839623650166\n",
      "f1 score on testing set:  0.41655812438944967\n"
     ]
    }
   ],
   "source": [
    "rr_score_bow_train, rr_score_bow_test = Round_Robin(yval, ycor, bow_xtrain, bow_xtest)\n",
    "print \"f1 score on training set: \", rr_score_bow_train\n",
    "print \"f1 score on testing set: \", rr_score_bow_test"
   ]
  },
  {
   "cell_type": "markdown",
   "metadata": {},
   "source": [
    "**TF-IDF**"
   ]
  },
  {
   "cell_type": "code",
   "execution_count": 53,
   "metadata": {},
   "outputs": [
    {
     "name": "stdout",
     "output_type": "stream",
     "text": [
      "(15993, 3000) 15993\n",
      "(23583, 3000) 23583\n",
      "(16542, 3000) 16542\n",
      "(28059, 2)\n",
      "f1 score on training set:  0.5640614419615809\n",
      "f1 score on testing set:  0.42543145555193745\n"
     ]
    }
   ],
   "source": [
    "rr_score_idf_train, rr_score_idf_test = Round_Robin(yval, ycor, tfidf_train, tfidf_test)\n",
    "print \"f1 score on training set: \", rr_score_idf_train\n",
    "print \"f1 score on testing set: \", rr_score_idf_test"
   ]
  }
 ],
 "metadata": {
  "kernelspec": {
   "display_name": "Python 2",
   "language": "python",
   "name": "python2"
  },
  "language_info": {
   "codemirror_mode": {
    "name": "ipython",
    "version": 2
   },
   "file_extension": ".py",
   "mimetype": "text/x-python",
   "name": "python",
   "nbconvert_exporter": "python",
   "pygments_lexer": "ipython2",
   "version": "2.7.15"
  }
 },
 "nbformat": 4,
 "nbformat_minor": 2
}
